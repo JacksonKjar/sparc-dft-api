{
 "cells": [
  {
   "cell_type": "markdown",
   "metadata": {},
   "source": [
    "# Monitor The Most Recent SPARC Runs\n",
    "\n",
    "This notebooks allows you to see the most recent calculations in the database and see data on their convergence"
   ]
  },
  {
   "cell_type": "code",
   "execution_count": 10,
   "metadata": {},
   "outputs": [],
   "source": [
    "%matplotlib inline\n",
    "from matplotlib import pyplot as plt\n",
    "import numpy as np\n",
    "from sparc import mongo\n",
    "import sys\n",
    "#print(sys.path)\n",
    "db = mongo.MongoDatabase(   #enter your database information\n",
    "                    host='',\n",
    "                    database='',\n",
    "                    user='',\n",
    "                    password='',port=27017\n",
    "                    )"
   ]
  },
  {
   "cell_type": "markdown",
   "metadata": {},
   "source": [
    "Now we need to query the database. The next box queries an entry to show what one looks like"
   ]
  },
  {
   "cell_type": "code",
   "execution_count": 12,
   "metadata": {},
   "outputs": [
    {
     "name": "stdout",
     "output_type": "stream",
     "text": [
      "{'results': {'energy': -10668.286454455583}, 'user': 'bcomer3', 'calculator': {'MAXIT_SCF': 1000, 'TOL_PSEUDOCHARGE': 1e-08, 'EXCHAGE_CORRELATION': 'LDA_PZ', 'name': 'SPARC-X', 'NSTATES': None, 'TOL_SCF': 1e-06, 'forces': None, 'energy': -10668.286454455583, 'BOUNDRY_CONDITION': 2, 'PRINT_FORCES': 0, 'SCF-converged': True, 'NP_BAND_PARAL': None, 'PRINT_ATOMS': 0, 'NP_KPOINT_PARAL': None, 'REFERENCE_CUTOFF': 0.5, 'MIXING_PARAMETER': 0.3, 'PULAY_RESTART': 0, 'PULAY_FREQUENCY': 1, 'TOL_POISSON': 1e-08, 'version': 'Sun Dec 16 11:27:15 2018', 'path': ['gpfs', 'pace2', 'project', 'pj1', 'bcomer3', 'sparc_fw_testing', 'block_2018-12-17-16-01-26-488995', 'launcher_2018-12-19-18-22-08-902638', 'launcher_2018-12-19-18-23-58-463058'], 'BETA': 1000.0, 'PRINT_DENSITY': 0, 'OUTPUT_FILE': None, 'KPOINT_GRID': [1, 1, 1], 'NP_DOMAIN_PHI_PARAL': None, 'SCF-steps': 48, 'CHEN_DEGREE': 20, 'class': 'SPARC', 'TOL_LANCZOS': 0.01, 'PSEUDOPOTENTIAL_LOCAL': 4, 'PRINT_EIGEN': 0, 'elapsed-time': 6.897, 'module': 'sparc.sparc', 'MIXING_HISTORY': 7, 'RHO_TRIGER': 3, 'NP_DOMAIN_PARAL': None}, 'ctime': datetime.datetime(2018, 12, 19, 18, 24, 7, 188000), 'atoms': {'symbol_counts': {'Ti': 2, 'O': 4}, 'mass': 159.73, 'chemical_symbols': ['O', 'Ti'], 'natoms': 6, 'constraints': [], 'info': {}, 'spacegroup': 'P4_2/mnm (136)', 'volume': 64.29198128323142, 'atoms': [{'symbol': 'Ti', 'charge': 0.0, 'momentum': [0.0, 0.0, 0.0], 'tag': 0, 'index': 0, 'position': [2.326636155, 2.326636155, 1.48460144], 'magmom': 0.0}, {'symbol': 'Ti', 'charge': 0.0, 'momentum': [0.0, 0.0, 0.0], 'tag': 0, 'index': 1, 'position': [0.0, 0.0, 0.0], 'magmom': 0.0}, {'symbol': 'O', 'charge': 0.0, 'momentum': [0.0, 0.0, 0.0], 'tag': 0, 'index': 2, 'position': [0.9093428470819849, 3.7439294629180155, 1.48460144], 'magmom': 0.0}, {'symbol': 'O', 'charge': 0.0, 'momentum': [0.0, 0.0, 0.0], 'tag': 0, 'index': 3, 'position': [3.7439294629180155, 0.9093428470819849, 1.48460144], 'magmom': 0.0}, {'symbol': 'O', 'charge': 0.0, 'momentum': [0.0, 0.0, 0.0], 'tag': 0, 'index': 4, 'position': [1.4172933079180152, 1.4172933079180152, 0.0], 'magmom': 0.0}, {'symbol': 'O', 'charge': 0.0, 'momentum': [0.0, 0.0, 0.0], 'tag': 0, 'index': 5, 'position': [3.2359790020819847, 3.2359790020819847, 0.0], 'magmom': 0.0}], 'cell': [[0.0, 0.0, 2.96920288], [4.65327231, 0.0, 0.0], [0.0, 4.65327231, 0.0]], 'pbc': [True, True, True]}, '_id': ObjectId('5c1a8cc7111c31e8d31c7768'), 'mtime': datetime.datetime(2018, 12, 19, 18, 24, 7, 188000)}\n"
     ]
    }
   ],
   "source": [
    "c = db.find({})  # an empty dictionary returns all entries\n",
    "entry = next(c)  # pluck out an entry\n",
    "print(entry)"
   ]
  },
  {
   "cell_type": "markdown",
   "metadata": {},
   "source": [
    "Now lets look at the agregate data"
   ]
  },
  {
   "cell_type": "code",
   "execution_count": 13,
   "metadata": {},
   "outputs": [
    {
     "name": "stderr",
     "output_type": "stream",
     "text": [
      "/usr/local/lib/python3.5/dist-packages/ipykernel_launcher.py:7: DeprecationWarning: count is deprecated. Use Collection.count_documents instead.\n",
      "  import sys\n"
     ]
    }
   ],
   "source": [
    "c = db.find({})\n",
    "steps = []  # number of SCF steps\n",
    "converged = []  # If it converged or not\n",
    "timing = []  # Walltimes\n",
    "formula = []  # The chemical formula of the structure\n",
    "\n",
    "for i in range(c.count()):  # iterate through the db entries\n",
    "    entry = next(c)\n",
    "    steps.append(entry['calculator']['SCF-steps'])\n",
    "    converged.append(entry['calculator']['SCF-converged'])\n",
    "    timing.append(entry['calculator']['elapsed-time'])\n",
    "    formula.append(next(db.get_atoms({'_id':entry['_id']})).get_chemical_formula())\n",
    "    \n",
    "colors = []  # just making a color mask for convergence\n",
    "for item in converged:\n",
    "    if item == True:\n",
    "        colors.append('b')\n",
    "    else:\n",
    "        colors.append('r')\n",
    "\n"
   ]
  },
  {
   "cell_type": "markdown",
   "metadata": {},
   "source": [
    "## What Proportion Have Converged?\n",
    "\n",
    "Lets make a bar chart of how many converged and how many did not"
   ]
  },
  {
   "cell_type": "code",
   "execution_count": 14,
   "metadata": {},
   "outputs": [
    {
     "data": {
      "image/png": "[encoded data removed]",
      "text/plain": [
       "<Figure size 432x288 with 1 Axes>"
      ]
     },
     "metadata": {},
     "output_type": "display_data"
    }
   ],
   "source": [
    "plt.bar([1,2],[converged.count(True),converged.count(False)])\n",
    "plt.xticks([1,2,],['Converged','Not Converged'])\n",
    "plt.title('Converged and Failed Calculations')\n",
    "plt.show()"
   ]
  },
  {
   "cell_type": "markdown",
   "metadata": {},
   "source": [
    "## How Many SCF Steps Did they Take?"
   ]
  },
  {
   "cell_type": "code",
   "execution_count": 15,
   "metadata": {},
   "outputs": [
    {
     "data": {
      "image/png": "[encoded data removed]",
      "text/plain": [
       "<Figure size 432x288 with 1 Axes>"
      ]
     },
     "metadata": {},
     "output_type": "display_data"
    }
   ],
   "source": [
    "plt.xlabel('Number of SCF Steps')\n",
    "plt.yticks([])\n",
    "plt.title('Number of SCF Steps in Tested Bulk Systems')\n",
    "\n",
    "plt.scatter(steps,range(1,len(steps)+1),color=colors)\n",
    "for i in range(len(steps)):\n",
    "    plt.text(steps[i],i+1,formula[i],color=colors[i])\n"
   ]
  },
  {
   "cell_type": "code",
   "execution_count": null,
   "metadata": {},
   "outputs": [],
   "source": []
  }
 ],
 "metadata": {
  "kernelspec": {
   "display_name": "Python 3",
   "language": "python",
   "name": "python3"
  },
  "language_info": {
   "codemirror_mode": {
    "name": "ipython",
    "version": 3
   },
   "file_extension": ".py",
   "mimetype": "text/x-python",
   "name": "python",
   "nbconvert_exporter": "python",
   "pygments_lexer": "ipython3",
   "version": "3.5.2"
  }
 },
 "nbformat": 4,
 "nbformat_minor": 2
}

{
 "cells": [
  {
   "cell_type": "markdown",
   "metadata": {},
   "source": [
    "# Monitor The Most Recent SPARC Runs\n",
    "\n",
    "This notebooks allows you to see the most recent calculations in the database and see data on their convergence"
   ]
  },
  {
   "cell_type": "code",
   "execution_count": 2,
   "metadata": {},
   "outputs": [],
   "source": [
    "%matplotlib inline\n",
    "from matplotlib import pyplot as plt\n",
    "import numpy as np\n",
    "from sparc import mongo\n",
    "import sys\n",
    "#print(sys.path)\n",
    "db = mongo.MongoDatabase(   #enter your database information\n",
    "                    host='',\n",
    "                    database=',\n",
    "                    user='',\n",
    "                    password='',port=27017\n",
    "                    )"
   ]
  },
  {
   "cell_type": "markdown",
   "metadata": {},
   "source": [
    "Now we need to query the database. The next box queries an entry to show what one looks like"
   ]
  },
  {
   "cell_type": "code",
   "execution_count": 3,
   "metadata": {},
   "outputs": [
    {
     "name": "stdout",
     "output_type": "stream",
     "text": [
      "{'user': 'bcomer3', 'calculator': {'PRINT_FORCES': 0, 'PRINT_ATOMS': 0, 'TOL_LANCZOS': 0.01, 'EXCHAGE_CORRELATION': 'LDA_PZ', 'NP_DOMAIN_PARAL': None, 'energy': -10668.286454455583, 'PULAY_FREQUENCY': 1, 'elapsed-time': 6.897, 'TOL_PSEUDOCHARGE': 1e-08, 'name': 'SPARC-X', 'PULAY_RESTART': 0, 'NP_KPOINT_PARAL': None, 'BOUNDRY_CONDITION': 2, 'module': 'sparc.sparc', 'RHO_TRIGER': 3, 'MAXIT_SCF': 1000, 'TOL_POISSON': 1e-08, 'TOL_SCF': 1e-06, 'NSTATES': None, 'NP_BAND_PARAL': None, 'path': ['gpfs', 'pace2', 'project', 'pj1', 'bcomer3', 'sparc_fw_testing', 'block_2018-12-17-16-01-26-488995', 'launcher_2018-12-19-18-22-08-902638', 'launcher_2018-12-19-18-23-58-463058'], 'NP_DOMAIN_PHI_PARAL': None, 'forces': None, 'class': 'SPARC', 'OUTPUT_FILE': None, 'MIXING_HISTORY': 7, 'SCF-steps': 48, 'SCF-converged': True, 'version': 'Sun Dec 16 11:27:15 2018', 'REFERENCE_CUTOFF': 0.5, 'CHEN_DEGREE': 20, 'KPOINT_GRID': [1, 1, 1], 'MIXING_PARAMETER': 0.3, 'PSEUDOPOTENTIAL_LOCAL': 4, 'BETA': 1000.0, 'PRINT_DENSITY': 0, 'PRINT_EIGEN': 0}, 'results': {'energy': -10668.286454455583}, 'mtime': datetime.datetime(2018, 12, 19, 18, 24, 7, 188000), '_id': ObjectId('5c1a8cc7111c31e8d31c7768'), 'atoms': {'volume': 64.29198128323142, 'pbc': [True, True, True], 'cell': [[0.0, 0.0, 2.96920288], [4.65327231, 0.0, 0.0], [0.0, 4.65327231, 0.0]], 'symbol_counts': {'Ti': 2, 'O': 4}, 'mass': 159.73, 'chemical_symbols': ['O', 'Ti'], 'natoms': 6, 'info': {}, 'spacegroup': 'P4_2/mnm (136)', 'atoms': [{'magmom': 0.0, 'momentum': [0.0, 0.0, 0.0], 'position': [2.326636155, 2.326636155, 1.48460144], 'symbol': 'Ti', 'tag': 0, 'index': 0, 'charge': 0.0}, {'magmom': 0.0, 'momentum': [0.0, 0.0, 0.0], 'position': [0.0, 0.0, 0.0], 'symbol': 'Ti', 'tag': 0, 'index': 1, 'charge': 0.0}, {'magmom': 0.0, 'momentum': [0.0, 0.0, 0.0], 'position': [0.9093428470819849, 3.7439294629180155, 1.48460144], 'symbol': 'O', 'tag': 0, 'index': 2, 'charge': 0.0}, {'magmom': 0.0, 'momentum': [0.0, 0.0, 0.0], 'position': [3.7439294629180155, 0.9093428470819849, 1.48460144], 'symbol': 'O', 'tag': 0, 'index': 3, 'charge': 0.0}, {'magmom': 0.0, 'momentum': [0.0, 0.0, 0.0], 'position': [1.4172933079180152, 1.4172933079180152, 0.0], 'symbol': 'O', 'tag': 0, 'index': 4, 'charge': 0.0}, {'magmom': 0.0, 'momentum': [0.0, 0.0, 0.0], 'position': [3.2359790020819847, 3.2359790020819847, 0.0], 'symbol': 'O', 'tag': 0, 'index': 5, 'charge': 0.0}], 'constraints': []}, 'ctime': datetime.datetime(2018, 12, 19, 18, 24, 7, 188000)}\n"
     ]
    }
   ],
   "source": [
    "c = db.find({})  # an empty dictionary returns all entries\n",
    "entry = next(c)  # pluck out an entry\n",
    "print(entry)"
   ]
  },
  {
   "cell_type": "markdown",
   "metadata": {},
   "source": [
    "Now lets look at the agregate data"
   ]
  },
  {
   "cell_type": "code",
   "execution_count": 4,
   "metadata": {},
   "outputs": [
    {
     "name": "stderr",
     "output_type": "stream",
     "text": [
      "/usr/local/lib/python3.5/dist-packages/ipykernel_launcher.py:7: DeprecationWarning: count is deprecated. Use Collection.count_documents instead.\n",
      "  import sys\n"
     ]
    }
   ],
   "source": [
    "c = db.find({})\n",
    "steps = []  # number of SCF steps\n",
    "converged = []  # If it converged or not\n",
    "timing = []  # Walltimes\n",
    "formula = []  # The chemical formula of the structure\n",
    "\n",
    "for i in range(c.count()):  # iterate through the db entries\n",
    "    entry = next(c)  # the variable entry now acts like a dictionary\n",
    "    steps.append(entry['calculator']['SCF-steps'])\n",
    "    converged.append(entry['calculator']['SCF-converged'])\n",
    "    timing.append(entry['calculator']['elapsed-time'])\n",
    "    formula.append(next(db.get_atoms({'_id':entry['_id']})).get_chemical_formula())\n",
    "    \n",
    "colors = []  # just making a color mask for convergence\n",
    "for item in converged:\n",
    "    if item == True:\n",
    "        colors.append('b')\n",
    "    else:\n",
    "        colors.append('r')\n",
    "\n"
   ]
  },
  {
   "cell_type": "markdown",
   "metadata": {},
   "source": [
    "## What Proportion Have Converged?\n",
    "\n",
    "Lets make a bar chart of how many converged and how many did not"
   ]
  },
  {
   "cell_type": "code",
   "execution_count": 5,
   "metadata": {},
   "outputs": [
    {
     "data": {
      "image/png": "[encoded data removed]",
      "text/plain": [
       "<Figure size 432x288 with 1 Axes>"
      ]
     },
     "metadata": {},
     "output_type": "display_data"
    }
   ],
   "source": [
    "plt.bar([1,2],[converged.count(True),converged.count(False)])\n",
    "plt.xticks([1,2,],['Converged','Not Converged'])\n",
    "plt.title('Converged and Failed Calculations')\n",
    "plt.show()"
   ]
  },
  {
   "cell_type": "markdown",
   "metadata": {},
   "source": [
    "## How Many SCF Steps Did they Take?"
   ]
  },
  {
   "cell_type": "code",
   "execution_count": 6,
   "metadata": {},
   "outputs": [
    {
     "data": {
      "image/png": "[encoded data removed]",
      "text/plain": [
       "<Figure size 432x288 with 1 Axes>"
      ]
     },
     "metadata": {},
     "output_type": "display_data"
    }
   ],
   "source": [
    "plt.xlabel('Number of SCF Steps')\n",
    "plt.yticks([])\n",
    "plt.title('Number of SCF Steps in Tested Bulk Systems')\n",
    "\n",
    "plt.scatter(steps,range(1,len(steps)+1),color=colors)\n",
    "for i in range(len(steps)):\n",
    "    plt.text(steps[i],i+1,formula[i],color=colors[i])\n"
   ]
  },
  {
   "cell_type": "code",
   "execution_count": null,
   "metadata": {},
   "outputs": [],
   "source": []
  }
 ],
 "metadata": {
  "kernelspec": {
   "display_name": "Python 3",
   "language": "python",
   "name": "python3"
  },
  "language_info": {
   "codemirror_mode": {
    "name": "ipython",
    "version": 3
   },
   "file_extension": ".py",
   "mimetype": "text/x-python",
   "name": "python",
   "nbconvert_exporter": "python",
   "pygments_lexer": "ipython3",
   "version": "3.5.2"
  }
 },
 "nbformat": 4,
 "nbformat_minor": 2
}
